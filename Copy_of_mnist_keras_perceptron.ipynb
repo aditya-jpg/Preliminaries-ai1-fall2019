{
  "nbformat": 4,
  "nbformat_minor": 0,
  "metadata": {
    "colab": {
      "name": "Copy of mnist-keras-perceptron.ipynb",
      "provenance": [],
      "collapsed_sections": [],
      "include_colab_link": true
    },
    "kernelspec": {
      "name": "python3",
      "display_name": "Python 3"
    },
    "accelerator": "GPU"
  },
  "cells": [
    {
      "cell_type": "markdown",
      "metadata": {
        "id": "view-in-github",
        "colab_type": "text"
      },
      "source": [
        "<a href=\"https://colab.research.google.com/github/aditya-jpg/Preliminaries-ai1-fall2019/blob/master/Copy_of_mnist_keras_perceptron.ipynb\" target=\"_parent\"><img src=\"https://colab.research.google.com/assets/colab-badge.svg\" alt=\"Open In Colab\"/></a>"
      ]
    },
    {
      "cell_type": "code",
      "metadata": {
        "id": "0rrbVKm5n6E3",
        "colab_type": "code",
        "outputId": "99c72054-5424-4e15-cf71-86680418e46f",
        "colab": {
          "base_uri": "https://localhost:8080/",
          "height": 1000
        }
      },
      "source": [
        "# taken from lukas/ml-class\n",
        "import numpy as np\n",
        "from keras.datasets import mnist\n",
        "from keras.models import Sequential\n",
        "from keras.layers import Dense, Flatten, Dropout\n",
        "from keras.utils import np_utils\n",
        "from keras.callbacks import Callback\n",
        "import json\n",
        "\n",
        "# from wandb.keras import WandbCallback\n",
        "# import wandb\n",
        "\n",
        "# run = wandb.init()\n",
        "# config = run.config\n",
        "\n",
        "class Config:\n",
        "  pass\n",
        "\n",
        "config = Config()\n",
        "config.optimizer = \"adam\"\n",
        "config.epochs = 30\n",
        "config.hidden_nodes = 30\n",
        "\n",
        "# load data\n",
        "(X_train, y_train), (X_test, y_test) = mnist.load_data()\n",
        "img_width = X_train.shape[1]\n",
        "img_height = X_train.shape[2]\n",
        "print(X_train.shape, y_train.shape)\n",
        "#X_train = X_train.astype('float32')\n",
        "#X_train /= 255.\n",
        "#X_test = X_test.astype('float32')\n",
        "#X_test /= 255.\n",
        "\n",
        "# Normalize, change learning rate, play with layer size, batchsize\n",
        "\n",
        "# one hot encode outputs\n",
        "y_train = np_utils.to_categorical(y_train)\n",
        "y_test = np_utils.to_categorical(y_test)\n",
        "labels = range(10)\n",
        "\n",
        "num_classes = y_train.shape[1]\n",
        "# create model\n",
        "model = Sequential()\n",
        "model.add(Flatten(input_shape=(img_width, img_height)))\n",
        "model.add(Dense(config.hidden_nodes, activation='relu'))\n",
        "model.add(Dense(config.hidden_nodes, activation='relu'))\n",
        "model.add(Dense(num_classes, activation='softmax'))\n",
        "model.compile(loss='categorical_crossentropy', optimizer=config.optimizer,\n",
        "              metrics=['accuracy'])\n",
        "model.summary()\n",
        "# Fit the model\n",
        "history = model.fit(X_train, y_train, validation_data=(X_test, y_test),\n",
        "          epochs=config.epochs)\n",
        "\n"
      ],
      "execution_count": 4,
      "outputs": [
        {
          "output_type": "stream",
          "text": [
            "Using TensorFlow backend.\n"
          ],
          "name": "stderr"
        },
        {
          "output_type": "stream",
          "text": [
            "Downloading data from https://s3.amazonaws.com/img-datasets/mnist.npz\n",
            "11493376/11490434 [==============================] - 1s 0us/step\n",
            "(60000, 28, 28) (60000,)\n",
            "WARNING:tensorflow:From /usr/local/lib/python3.6/dist-packages/keras/backend/tensorflow_backend.py:66: The name tf.get_default_graph is deprecated. Please use tf.compat.v1.get_default_graph instead.\n",
            "\n",
            "WARNING:tensorflow:From /usr/local/lib/python3.6/dist-packages/keras/backend/tensorflow_backend.py:541: The name tf.placeholder is deprecated. Please use tf.compat.v1.placeholder instead.\n",
            "\n",
            "WARNING:tensorflow:From /usr/local/lib/python3.6/dist-packages/keras/backend/tensorflow_backend.py:4432: The name tf.random_uniform is deprecated. Please use tf.random.uniform instead.\n",
            "\n",
            "WARNING:tensorflow:From /usr/local/lib/python3.6/dist-packages/keras/optimizers.py:793: The name tf.train.Optimizer is deprecated. Please use tf.compat.v1.train.Optimizer instead.\n",
            "\n",
            "WARNING:tensorflow:From /usr/local/lib/python3.6/dist-packages/keras/backend/tensorflow_backend.py:3576: The name tf.log is deprecated. Please use tf.math.log instead.\n",
            "\n",
            "Model: \"sequential_1\"\n",
            "_________________________________________________________________\n",
            "Layer (type)                 Output Shape              Param #   \n",
            "=================================================================\n",
            "flatten_1 (Flatten)          (None, 784)               0         \n",
            "_________________________________________________________________\n",
            "dense_1 (Dense)              (None, 30)                23550     \n",
            "_________________________________________________________________\n",
            "dense_2 (Dense)              (None, 30)                930       \n",
            "_________________________________________________________________\n",
            "dense_3 (Dense)              (None, 10)                310       \n",
            "=================================================================\n",
            "Total params: 24,790\n",
            "Trainable params: 24,790\n",
            "Non-trainable params: 0\n",
            "_________________________________________________________________\n",
            "WARNING:tensorflow:From /usr/local/lib/python3.6/dist-packages/tensorflow/python/ops/math_grad.py:1250: add_dispatch_support.<locals>.wrapper (from tensorflow.python.ops.array_ops) is deprecated and will be removed in a future version.\n",
            "Instructions for updating:\n",
            "Use tf.where in 2.0, which has the same broadcast rule as np.where\n",
            "WARNING:tensorflow:From /usr/local/lib/python3.6/dist-packages/keras/backend/tensorflow_backend.py:1033: The name tf.assign_add is deprecated. Please use tf.compat.v1.assign_add instead.\n",
            "\n",
            "Train on 60000 samples, validate on 10000 samples\n",
            "Epoch 1/30\n",
            "60000/60000 [==============================] - 11s 179us/step - loss: 8.8009 - acc: 0.4479 - val_loss: 6.2434 - val_acc: 0.6084\n",
            "Epoch 2/30\n",
            "60000/60000 [==============================] - 6s 106us/step - loss: 6.2485 - acc: 0.6083 - val_loss: 6.0202 - val_acc: 0.6231\n",
            "Epoch 3/30\n",
            "60000/60000 [==============================] - 6s 106us/step - loss: 6.0719 - acc: 0.6200 - val_loss: 6.1131 - val_acc: 0.6174\n",
            "Epoch 4/30\n",
            "60000/60000 [==============================] - 6s 106us/step - loss: 6.0282 - acc: 0.6235 - val_loss: 5.9172 - val_acc: 0.6314\n",
            "Epoch 5/30\n",
            "60000/60000 [==============================] - 7s 109us/step - loss: 5.9849 - acc: 0.6266 - val_loss: 6.2074 - val_acc: 0.6129\n",
            "Epoch 6/30\n",
            "60000/60000 [==============================] - 6s 105us/step - loss: 5.9362 - acc: 0.6303 - val_loss: 6.0190 - val_acc: 0.6250\n",
            "Epoch 7/30\n",
            "60000/60000 [==============================] - 6s 105us/step - loss: 5.9667 - acc: 0.6287 - val_loss: 5.9041 - val_acc: 0.6326\n",
            "Epoch 8/30\n",
            "60000/60000 [==============================] - 6s 105us/step - loss: 5.9033 - acc: 0.6324 - val_loss: 5.9104 - val_acc: 0.6324\n",
            "Epoch 9/30\n",
            "60000/60000 [==============================] - 6s 106us/step - loss: 5.8519 - acc: 0.6360 - val_loss: 5.9295 - val_acc: 0.6310\n",
            "Epoch 10/30\n",
            "60000/60000 [==============================] - 6s 105us/step - loss: 5.8612 - acc: 0.6355 - val_loss: 5.7561 - val_acc: 0.6420\n",
            "Epoch 11/30\n",
            "60000/60000 [==============================] - 6s 104us/step - loss: 5.8546 - acc: 0.6358 - val_loss: 6.0295 - val_acc: 0.6249\n",
            "Epoch 12/30\n",
            "60000/60000 [==============================] - 6s 104us/step - loss: 5.8164 - acc: 0.6381 - val_loss: 5.8023 - val_acc: 0.6394\n",
            "Epoch 13/30\n",
            "60000/60000 [==============================] - 6s 104us/step - loss: 5.9082 - acc: 0.6326 - val_loss: 6.0197 - val_acc: 0.6255\n",
            "Epoch 14/30\n",
            "60000/60000 [==============================] - 6s 105us/step - loss: 5.8459 - acc: 0.6367 - val_loss: 6.0211 - val_acc: 0.6259\n",
            "Epoch 15/30\n",
            "60000/60000 [==============================] - 6s 105us/step - loss: 5.8277 - acc: 0.6379 - val_loss: 5.9597 - val_acc: 0.6295\n",
            "Epoch 16/30\n",
            "60000/60000 [==============================] - 6s 105us/step - loss: 5.8655 - acc: 0.6356 - val_loss: 5.7974 - val_acc: 0.6395\n",
            "Epoch 17/30\n",
            "60000/60000 [==============================] - 6s 106us/step - loss: 5.8563 - acc: 0.6360 - val_loss: 5.9659 - val_acc: 0.6289\n",
            "Epoch 18/30\n",
            "60000/60000 [==============================] - 6s 107us/step - loss: 5.8370 - acc: 0.6372 - val_loss: 5.9265 - val_acc: 0.6318\n",
            "Epoch 19/30\n",
            "60000/60000 [==============================] - 6s 103us/step - loss: 5.9185 - acc: 0.6321 - val_loss: 5.7546 - val_acc: 0.6427\n",
            "Epoch 20/30\n",
            "60000/60000 [==============================] - 6s 104us/step - loss: 5.8428 - acc: 0.6369 - val_loss: 5.7098 - val_acc: 0.6453\n",
            "Epoch 21/30\n",
            "60000/60000 [==============================] - 6s 107us/step - loss: 5.8416 - acc: 0.6371 - val_loss: 5.7636 - val_acc: 0.6419\n",
            "Epoch 22/30\n",
            "60000/60000 [==============================] - 6s 105us/step - loss: 5.8382 - acc: 0.6373 - val_loss: 5.7619 - val_acc: 0.6421\n",
            "Epoch 23/30\n",
            "60000/60000 [==============================] - 6s 104us/step - loss: 5.8642 - acc: 0.6357 - val_loss: 5.7949 - val_acc: 0.6402\n",
            "Epoch 24/30\n",
            "60000/60000 [==============================] - 6s 106us/step - loss: 5.9040 - acc: 0.6333 - val_loss: 5.7655 - val_acc: 0.6418\n",
            "Epoch 25/30\n",
            "60000/60000 [==============================] - 6s 103us/step - loss: 5.8044 - acc: 0.6396 - val_loss: 5.6396 - val_acc: 0.6500\n",
            "Epoch 26/30\n",
            "60000/60000 [==============================] - 6s 105us/step - loss: 5.7722 - acc: 0.6415 - val_loss: 5.7293 - val_acc: 0.6444\n",
            "Epoch 27/30\n",
            "60000/60000 [==============================] - 6s 104us/step - loss: 5.8146 - acc: 0.6389 - val_loss: 5.7372 - val_acc: 0.6439\n",
            "Epoch 28/30\n",
            "60000/60000 [==============================] - 6s 104us/step - loss: 5.7716 - acc: 0.6416 - val_loss: 5.8865 - val_acc: 0.6345\n",
            "Epoch 29/30\n",
            "60000/60000 [==============================] - 6s 104us/step - loss: 5.8946 - acc: 0.6339 - val_loss: 5.9686 - val_acc: 0.6294\n",
            "Epoch 30/30\n",
            "60000/60000 [==============================] - 7s 109us/step - loss: 5.7927 - acc: 0.6403 - val_loss: 5.8287 - val_acc: 0.6379\n"
          ],
          "name": "stdout"
        }
      ]
    },
    {
      "cell_type": "code",
      "metadata": {
        "id": "IjsCL5g3RmQ2",
        "colab_type": "code",
        "colab": {}
      },
      "source": [
        ""
      ],
      "execution_count": 0,
      "outputs": []
    },
    {
      "cell_type": "code",
      "metadata": {
        "id": "O92hgxJMTDfQ",
        "colab_type": "code",
        "colab": {
          "base_uri": "https://localhost:8080/",
          "height": 231
        },
        "outputId": "61a25d32-90fb-4780-d70d-47dda010d916"
      },
      "source": [
        ""
      ],
      "execution_count": 3,
      "outputs": [
        {
          "output_type": "error",
          "ename": "NameError",
          "evalue": "ignored",
          "traceback": [
            "\u001b[0;31m---------------------------------------------------------------------------\u001b[0m",
            "\u001b[0;31mNameError\u001b[0m                                 Traceback (most recent call last)",
            "\u001b[0;32m<ipython-input-3-47e567f59266>\u001b[0m in \u001b[0;36m<module>\u001b[0;34m()\u001b[0m\n\u001b[1;32m      8\u001b[0m \u001b[0;34m\u001b[0m\u001b[0m\n\u001b[1;32m      9\u001b[0m \u001b[0;31m# load data\u001b[0m\u001b[0;34m\u001b[0m\u001b[0;34m\u001b[0m\u001b[0;34m\u001b[0m\u001b[0m\n\u001b[0;32m---> 10\u001b[0;31m \u001b[0;34m(\u001b[0m\u001b[0mX_train\u001b[0m\u001b[0;34m,\u001b[0m \u001b[0my_train\u001b[0m\u001b[0;34m)\u001b[0m\u001b[0;34m,\u001b[0m \u001b[0;34m(\u001b[0m\u001b[0mX_test\u001b[0m\u001b[0;34m,\u001b[0m \u001b[0my_test\u001b[0m\u001b[0;34m)\u001b[0m \u001b[0;34m=\u001b[0m \u001b[0mmnist\u001b[0m\u001b[0;34m.\u001b[0m\u001b[0mload_data\u001b[0m\u001b[0;34m(\u001b[0m\u001b[0;34m)\u001b[0m\u001b[0;34m\u001b[0m\u001b[0;34m\u001b[0m\u001b[0m\n\u001b[0m\u001b[1;32m     11\u001b[0m \u001b[0mimg_width\u001b[0m \u001b[0;34m=\u001b[0m \u001b[0mX_train\u001b[0m\u001b[0;34m.\u001b[0m\u001b[0mshape\u001b[0m\u001b[0;34m[\u001b[0m\u001b[0;36m1\u001b[0m\u001b[0;34m]\u001b[0m\u001b[0;34m\u001b[0m\u001b[0;34m\u001b[0m\u001b[0m\n\u001b[1;32m     12\u001b[0m \u001b[0mimg_height\u001b[0m \u001b[0;34m=\u001b[0m \u001b[0mX_train\u001b[0m\u001b[0;34m.\u001b[0m\u001b[0mshape\u001b[0m\u001b[0;34m[\u001b[0m\u001b[0;36m2\u001b[0m\u001b[0;34m]\u001b[0m\u001b[0;34m\u001b[0m\u001b[0;34m\u001b[0m\u001b[0m\n",
            "\u001b[0;31mNameError\u001b[0m: name 'mnist' is not defined"
          ]
        }
      ]
    },
    {
      "cell_type": "code",
      "metadata": {
        "id": "vOfdn22MTD9j",
        "colab_type": "code",
        "colab": {}
      },
      "source": [
        ""
      ],
      "execution_count": 0,
      "outputs": []
    },
    {
      "cell_type": "code",
      "metadata": {
        "id": "hXyIkrUvRqKl",
        "colab_type": "code",
        "outputId": "9e18ae6d-d202-4b32-bd06-aa75734740ae",
        "colab": {
          "base_uri": "https://localhost:8080/",
          "height": 180
        }
      },
      "source": [
        ""
      ],
      "execution_count": 0,
      "outputs": [
        {
          "output_type": "error",
          "ename": "NameError",
          "evalue": "ignored",
          "traceback": [
            "\u001b[0;31m---------------------------------------------------------------------------\u001b[0m",
            "\u001b[0;31mNameError\u001b[0m                                 Traceback (most recent call last)",
            "\u001b[0;32m<ipython-input-1-28e76db1969d>\u001b[0m in \u001b[0;36m<module>\u001b[0;34m()\u001b[0m\n\u001b[0;32m----> 1\u001b[0;31m history = model.fit(X_train, y_train, validation_data=(X_test, y_test),\n\u001b[0m\u001b[1;32m      2\u001b[0m           epochs=config.epochs)\n",
            "\u001b[0;31mNameError\u001b[0m: name 'model' is not defined"
          ]
        }
      ]
    },
    {
      "cell_type": "code",
      "metadata": {
        "id": "bJjZBPVKRqnx",
        "colab_type": "code",
        "outputId": "da174e6d-a8d8-4c1b-835c-2829a1f55b38",
        "colab": {
          "base_uri": "https://localhost:8080/",
          "height": 163
        }
      },
      "source": [
        "history.history"
      ],
      "execution_count": 0,
      "outputs": [
        {
          "output_type": "error",
          "ename": "NameError",
          "evalue": "ignored",
          "traceback": [
            "\u001b[0;31m---------------------------------------------------------------------------\u001b[0m",
            "\u001b[0;31mNameError\u001b[0m                                 Traceback (most recent call last)",
            "\u001b[0;32m<ipython-input-2-6cd13d6a221b>\u001b[0m in \u001b[0;36m<module>\u001b[0;34m()\u001b[0m\n\u001b[0;32m----> 1\u001b[0;31m \u001b[0mhistory\u001b[0m\u001b[0;34m.\u001b[0m\u001b[0mhistory\u001b[0m\u001b[0;34m\u001b[0m\u001b[0;34m\u001b[0m\u001b[0m\n\u001b[0m",
            "\u001b[0;31mNameError\u001b[0m: name 'history' is not defined"
          ]
        }
      ]
    }
  ]
}